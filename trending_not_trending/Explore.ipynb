{
 "cells": [
  {
   "cell_type": "code",
   "execution_count": 9,
   "metadata": {
    "collapsed": false
   },
   "outputs": [],
   "source": [
    "from NYT_api_advanced import wraper_function_data, handle_multiple_words, \\\n",
    "                            produce_wordclouds, save_images_as_str, \\\n",
    "                            plotly_url, writing_js_file, writing_html_file"
   ]
  },
  {
   "cell_type": "markdown",
   "metadata": {},
   "source": [
    "## GET request to NY Times API"
   ]
  },
  {
   "cell_type": "code",
   "execution_count": 11,
   "metadata": {
    "collapsed": true
   },
   "outputs": [],
   "source": [
    "#define the terms of your query to the NY Times API\n",
    "terms = 'Neural Nets'\n",
    "year_start = 2006\n",
    "year_end = 2016\n",
    "\n",
    "#credential to send GET request to API\n",
    "path_to_cred = '../../credentials/credentials.yml'"
   ]
  },
  {
   "cell_type": "code",
   "execution_count": 12,
   "metadata": {
    "collapsed": true
   },
   "outputs": [],
   "source": [
    "# getting the data from NYT API\n",
    "dict_hits, d_keywords = wraper_function_data(year_start, year_end, terms, path_to_cred)"
   ]
  },
  {
   "cell_type": "markdown",
   "metadata": {},
   "source": [
    "## Wordclouds\n",
    "\n",
    "I used **https://github.com/amueller/word_cloud** to generate the wordclouds with standard settings (a mix of rank importance and frequency sets the size of the word in the cloud)\n",
    "\n",
    "You need to install Wordclouds (see the GitHub repository)\n",
    "\n",
    "The words given must be in a string, they are then separated into individual words. For instance, NYT keywords *'Clinton, Bill'* will give *'Clinton'* and *'Bill'* ranked and counted separately. Since I wanted to see the keyword as a whole, I linked then with *'_'*, and therefore the wordclouds will have *Clinton_Bill*."
   ]
  },
  {
   "cell_type": "code",
   "execution_count": 13,
   "metadata": {
    "collapsed": true
   },
   "outputs": [],
   "source": [
    "#transform 'Clinton, Bill' into 'Clinton_Bill'\n",
    "d_linked_keywords = handle_multiple_words(d_keywords)\n",
    "\n",
    "#make the wordclouds (as matplotlib figures)\n",
    "dict_figs = produce_wordclouds(d_linked_keywords, plot_option=False)"
   ]
  },
  {
   "cell_type": "markdown",
   "metadata": {},
   "source": [
    "## Interactive Bar Graph with image on hover\n",
    "\n",
    "I choose to got with plotly graphs (https://plot.ly/) as there was a great example of what I wanted to do on GitHub (https://github.com/etpinard/plotly-dashboards/tree/master/hover-images). This means I need to update the *index.html* and the *main.js* to have my images and plot.\n",
    "\n",
    "#### $\\longrightarrow$ Writing main.js\n",
    "When exploring the Javascript file, we can see that a Javascript dictionary allows us to link the points (passed as a list in `x` in the plotly generator code) and the hover image, in the type 'point': 'image'. Interestingly, the image is passed as a text, so our wordclouds have to be encoded into text \n",
    "\n",
    "limitation: I was not able to use intergers or integers as strings as the key. The key will have '-' instead of whitespaces and all text is lowered.\n",
    "\n",
    "#### $\\longrightarrow$ Writing index.htlm\n",
    "- a plotly url needs to be included in the html, I needed to generate the interactive bar graph (no hover for now). You can register for free on plotly, and you will need to create a credential file.\n",
    ">plotly.tools.set_credentials_file(username='****', api_key='****')\n",
    "\n",
    "- a javascript file needs to be written (main.js)\n",
    "\n",
    "- generating the html"
   ]
  },
  {
   "cell_type": "code",
   "execution_count": 14,
   "metadata": {
    "collapsed": true
   },
   "outputs": [],
   "source": [
    "# getting the plotly url, making the bar chart\n",
    "url = plotly_url(year_start, year_end, dict_hits)"
   ]
  },
  {
   "cell_type": "code",
   "execution_count": 15,
   "metadata": {
    "collapsed": false
   },
   "outputs": [
    {
     "data": {
      "text/plain": [
       "\"(function main() {\\n\\n    var Plot = {\\n        id: 'plot',\\n        imgId: 'hover-image',\\n        domain: 'https://plot.ly'\\n    };\\n\\n    Plot.iframe = document.getElementById(Plot.id);\\n    Plot.graphContentWindow = Plot.iframe.contentWindow;\\n\\n    Plot.hoverImg = document.getElementById(Plot.imgId);\\n\\n    Plot.init = function init() {\\n        var pinger = setInterval(function() {\\n            Plot.post({task: 'ping'});\\n        }, 500);\\n\\n        function messageListener(e) {\\n            var message = e.data;\\n\\n            if(message.pong) {\\n                console.log('Initial pong, frame is ready to receive');\\n                clearInterval(pinger);\\n\\n                Plot.post({\\n                    'task': 'listen',\\n                    'events': ['hover']\\n                });\\n            }\\n            else if(message.type === 'hover') {\\n                Plot.onHover(message);\\n            }\\n        }\\n\\n        window.removeEventListener('message', messageListener);\\n        window.addEventListener('message', messageListener);\\n    };\\n\\n    Plot.post = function post(o) {\\n        Plot.graphContentWindow.postMessage(o, Plot.domain);\\n    };\\n\\n    var artistToUrl = {\\n    };\\n\\n    var blankImg = 'data:image/gif;base64,R0lGODlhAQABAAD/ACwAAAAAAQABAAACADs=';\\n\\n    Plot.onHover = function(message) {\\n        var artist = message.points[0].x\\n            .toLowerCase()\\n            .replace(/ /g, '-');\\n\\n        var imgSrc = blankImg;\\n\\n        if(artistToUrl[artist] !== undefined) imgSrc = artistToUrl[artist];\\n\\n        Plot.hoverImg.src = imgSrc;\\n    };\\n\\n    Plot.init();\\n\\n    })();\\n    \""
      ]
     },
     "execution_count": 15,
     "metadata": {},
     "output_type": "execute_result"
    }
   ],
   "source": [
    "#main.js\n",
    "dict_str = save_images_as_str(dict_figs)\n",
    "writing_js_file(dict_str, 'main_explore.js')"
   ]
  },
  {
   "cell_type": "code",
   "execution_count": 16,
   "metadata": {
    "collapsed": false
   },
   "outputs": [
    {
     "data": {
      "text/plain": [
       "'\\n    <!DOCTYPE html>>\\n    <style>\\n    /* http://stackoverflow.com/questions/11555809/image-overhead-iframe */\\n    iframe{\\n      width: 1000px;\\n      height: 600px;\\n      border : none;\\n      z-index: 2;\\n    }\\n\\n    img{\\n      position: absolute;\\n      left: 400px;\\n      top: 130px;\\n      z-index: 3;\\n      border : none;\\n      max-width: 400px;\\n      max-height: 300px;\\n      align: \"middle\";\\n    }\\n    </style>\\n    <body>\\n\\n    <iframe id=\"plot\" src=\"https://plot.ly/~AnnaVM/37\" seamless></iframe>\\n\\n    <!-- http://stackoverflow.com/questions/11555809/image-overhead-iframe -->\\n    <img id=\"hover-image\" src=\"data:image/gif;base64,R0lGODlhAQABAAD/ACwAAAAAAQABAAACADs=\">\\n\\n    <script src=\\'main_explore.js\\'></script>\\n\\n    </body>\\n\\n    '"
      ]
     },
     "execution_count": 16,
     "metadata": {},
     "output_type": "execute_result"
    }
   ],
   "source": [
    "#html\n",
    "writing_html_file(url, 'main_explore.js', 'index.html')"
   ]
  },
  {
   "cell_type": "markdown",
   "metadata": {},
   "source": [
    "## Exploring the interactive graph\n",
    "\n",
    "in order to have the js execute, run the html on a local server with the command in terminal \n",
    "\n",
    "> $python -m SimpleHTTPServer\n",
    "\n",
    "the file protocol does not execute the Javascript properly"
   ]
  },
  {
   "cell_type": "code",
   "execution_count": 18,
   "metadata": {
    "collapsed": false
   },
   "outputs": [],
   "source": []
  },
  {
   "cell_type": "code",
   "execution_count": null,
   "metadata": {
    "collapsed": true
   },
   "outputs": [],
   "source": []
  }
 ],
 "metadata": {
  "anaconda-cloud": {},
  "kernelspec": {
   "display_name": "Python [default]",
   "language": "python",
   "name": "python2"
  },
  "language_info": {
   "codemirror_mode": {
    "name": "ipython",
    "version": 2
   },
   "file_extension": ".py",
   "mimetype": "text/x-python",
   "name": "python",
   "nbconvert_exporter": "python",
   "pygments_lexer": "ipython2",
   "version": "2.7.12"
  }
 },
 "nbformat": 4,
 "nbformat_minor": 0
}
