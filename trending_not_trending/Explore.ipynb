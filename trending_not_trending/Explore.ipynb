{
 "cells": [
  {
   "cell_type": "code",
   "execution_count": 9,
   "metadata": {
    "collapsed": false
   },
   "outputs": [],
   "source": [
    "from NYT_api_advanced import wraper_function_data, handle_multiple_words, \\\n",
    "                            produce_wordclouds, save_images_as_str, \\\n",
    "                            plotly_url, writing_js_file, writing_html_file"
   ]
  },
  {
   "cell_type": "code",
   "execution_count": 10,
   "metadata": {
    "collapsed": true
   },
   "outputs": [],
   "source": [
    "#define the terms of your query to the NY Times API\n",
    "terms = 'Neural Nets'\n",
    "year_start = 2006\n",
    "year_end = 2016"
   ]
  },
  {
   "cell_type": "code",
   "execution_count": null,
   "metadata": {
    "collapsed": true
   },
   "outputs": [],
   "source": [
    "\n",
    "\n",
    "print ('getting the data from NYT API')\n",
    "dict_hits, d_keywords = wraper_function_data(year_start, year_end, terms)\n",
    "print ('making the wordclouds')\n",
    "d_linked_keywords = handle_multiple_words(d_keywords)\n",
    "dict_figs = produce_wordclouds(d_linked_keywords, plot_option=False)\n",
    "dict_str = save_images_as_str(dict_figs)\n",
    "print('making the bar chart')\n",
    "url = plotly_url(year_start, year_end, dict_hits)\n",
    "print ('preparing files')\n",
    "writing_js_file(dict_str, 'main.js')\n",
    "writing_html_file(url, 'main.js', 'index.html')\n",
    "\n",
    "print ('in order to have the js execute, run the html on a local server')\n",
    "print ('command in terminal $python -m SimpleHTTPServer')"
   ]
  }
 ],
 "metadata": {
  "anaconda-cloud": {},
  "kernelspec": {
   "display_name": "Python [default]",
   "language": "python",
   "name": "python2"
  },
  "language_info": {
   "codemirror_mode": {
    "name": "ipython",
    "version": 2
   },
   "file_extension": ".py",
   "mimetype": "text/x-python",
   "name": "python",
   "nbconvert_exporter": "python",
   "pygments_lexer": "ipython2",
   "version": "2.7.12"
  }
 },
 "nbformat": 4,
 "nbformat_minor": 0
}
